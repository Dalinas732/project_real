{
 "cells": [
  {
   "cell_type": "code",
   "execution_count": 1,
   "id": "8b3a3090-5ee4-4840-938e-e37785ddcaa6",
   "metadata": {},
   "outputs": [
    {
     "data": {
      "text/plain": [
       "'This module is meant to track the average temperatures of Jan through years 1960-2024 '"
      ]
     },
     "execution_count": 1,
     "metadata": {},
     "output_type": "execute_result"
    }
   ],
   "source": [
    "\"\"\"This module is meant to track the average temperatures of Jan through years 1960-2024 \"\"\""
   ]
  },
  {
   "cell_type": "code",
   "execution_count": 2,
   "id": "807efe2e-e699-41e6-815f-4f1969a7bf0d",
   "metadata": {},
   "outputs": [
    {
     "ename": "ModuleNotFoundError",
     "evalue": "No module named 'class_ai'",
     "output_type": "error",
     "traceback": [
      "\u001b[0;31m---------------------------------------------------------------------------\u001b[0m",
      "\u001b[0;31mModuleNotFoundError\u001b[0m                       Traceback (most recent call last)",
      "Cell \u001b[0;32mIn[2], line 1\u001b[0m\n\u001b[0;32m----> 1\u001b[0m \u001b[38;5;28;01mfrom\u001b[39;00m \u001b[38;5;21;01mclass_ai\u001b[39;00m \u001b[38;5;28;01mimport\u001b[39;00m Temperature_Data\n\u001b[1;32m      2\u001b[0m \u001b[38;5;28;01mimport\u001b[39;00m \u001b[38;5;21;01mnumpy\u001b[39;00m \u001b[38;5;28;01mas\u001b[39;00m \u001b[38;5;21;01mnp\u001b[39;00m\n\u001b[1;32m      3\u001b[0m \u001b[38;5;28;01mimport\u001b[39;00m \u001b[38;5;21;01mpandas\u001b[39;00m \u001b[38;5;28;01mas\u001b[39;00m \u001b[38;5;21;01mpd\u001b[39;00m\n",
      "\u001b[0;31mModuleNotFoundError\u001b[0m: No module named 'class_ai'"
     ]
    }
   ],
   "source": [
    "from class_ai import Temperature_Data\n",
    "import numpy as np\n",
    "import pandas as pd\n",
    "import matplotlib.pyplot as plt"
   ]
  },
  {
   "cell_type": "code",
   "execution_count": null,
   "id": "70170635-98bc-4a32-a073-521cfe9f40f2",
   "metadata": {},
   "outputs": [],
   "source": [
    "### Set up my Class\n",
    "data = pd.read_excel(\"cleandata.xlsx\", sheet_name=None)\n",
    "tp = Temperature_Data(data)\n",
    "years = tp.years\n",
    "years = years[::-1]"
   ]
  },
  {
   "cell_type": "code",
   "execution_count": null,
   "id": "01cfb8a1-e4c6-4891-9a6f-656c0f6c2453",
   "metadata": {},
   "outputs": [],
   "source": [
    "highs = np.zeros((12,len(years)))\n",
    "avgs = np.zeros((12,len(years)))\n",
    "lows = np.zeros((12,len(years)))\n",
    "months = np.arange(1,13)\n",
    "for month in months:\n",
    "    for i, year in enumerate(years):\n",
    "        temp = np.mean(tp.collect_month(month,year,0))\n",
    "        highs[month-1,i] = temp\n",
    "        temp = np.mean(tp.collect_month(month,year,1))\n",
    "        avgs[month-1,i] = temp\n",
    "        temp = np.mean(tp.collect_month(month,year,2))\n",
    "        lows[month-1,i] = temp\n",
    "print(\"Completed.\")"
   ]
  },
  {
   "cell_type": "code",
   "execution_count": null,
   "id": "7e055e52-9657-4721-beb0-f0555722e129",
   "metadata": {},
   "outputs": [],
   "source": [
    "x = np.array(years).astype(int) ## X - axis years\n",
    "# Plot everything\n",
    "plt.figure(figsize=(10, 6))\n",
    "months = [\"January\", \"February\", \"March\", \"April\", \"May\", \"June\",\n",
    "          \"July\", \"August\", \"September\", \"October\", \"November\", \"December\"]\n",
    "\n",
    "#############\n",
    "chosen_month = 1\n",
    "###############\n",
    "y_highs = highs[chosen_month-1,:]\n",
    "y_avgs = avgs[chosen_month-1,:]\n",
    "y_lows = lows[chosen_month-1,:]\n",
    "\n",
    "# Original data\n",
    "plt.plot(x, y_highs, color='red', linewidth=2.5, marker='o', label='High')\n",
    "plt.plot(x, y_avgs,  color='green', linewidth=2.5, marker='s', label='Average')\n",
    "plt.plot(x, y_lows,  color='blue', linewidth=2.5, marker='^', label='Low')\n",
    "\n",
    "\n",
    "# Labels and formatting\n",
    "plt.title(f\"Temperature Trends for {months[chosen_month-1]}\", fontsize=16, weight='bold')\n",
    "plt.xlabel(\"Year\", fontsize=14)\n",
    "plt.ylabel(\"Degrees Fahrenheit\", fontsize=14)\n",
    "plt.legend(fontsize=12, frameon=True, shadow=True, loc='best')\n",
    "plt.grid(True, linestyle='--', alpha=0.6)\n",
    "plt.tight_layout()\n",
    "plt.show()\n"
   ]
  },
  {
   "cell_type": "code",
   "execution_count": null,
   "id": "e9cb9d4e-3dd9-460e-a71b-a9fe4486405a",
   "metadata": {},
   "outputs": [],
   "source": [
    "# Convert years to integers\n",
    "x = np.array(years).astype(int)\n",
    "\n",
    "# Month names for titles\n",
    "months = [\"January\", \"February\", \"March\", \"April\", \"May\", \"June\",\n",
    "          \"July\", \"August\", \"September\", \"October\", \"November\", \"December\"]\n",
    "\n",
    "# Set up the subplots: 3 rows × 4 columns\n",
    "fig, axes = plt.subplots(3, 4, figsize=(22, 14), sharex=True, sharey=False)\n",
    "fig.suptitle(\"Monthly Temperature Trends: High, Average, and Low\", fontsize=18, weight='bold')\n",
    "\n",
    "# Flatten axes array for easy looping\n",
    "axes = axes.flatten()\n",
    "\n",
    "for i in range(12):\n",
    "    ax = axes[i]\n",
    "    \n",
    "    # Extract data for this month\n",
    "    y_highs = highs[i, :]\n",
    "    y_avgs = avgs[i, :]\n",
    "    y_lows  = lows[i, :]\n",
    "    \n",
    "    # Plot raw data\n",
    "    ax.plot(x, y_highs, color='red', linewidth=1.8, marker='o', label='High')\n",
    "    ax.plot(x, y_avgs, color='green', linewidth=1.8, marker='s', label='Avg')\n",
    "    ax.plot(x, y_lows,  color='blue', linewidth=1.8, marker='^', label='Low')\n",
    "    \n",
    "    # Add trend lines\n",
    "    ax.plot(x, np.poly1d(np.polyfit(x, y_highs, 1))(x), color='red', linestyle='--')\n",
    "    ax.plot(x, np.poly1d(np.polyfit(x, y_avgs, 1))(x), color='green', linestyle='--')\n",
    "    ax.plot(x, np.poly1d(np.polyfit(x, y_lows, 1))(x),  color='blue', linestyle='--')\n",
    "    \n",
    "    ax.set_title(months[i], fontsize=12)\n",
    "    ax.grid(True, linestyle='--', alpha=0.4)\n",
    "\n",
    "# Add one shared legend in the first subplot\n",
    "axes[0].legend(loc='upper left', fontsize=10, frameon=True)\n",
    "\n",
    "# Common labels\n",
    "fig.text(0.5, 0.04, 'Year', ha='center', fontsize=14)\n",
    "fig.text(0.06, 0.5, 'Temperature (°F)', va='center', rotation='vertical', fontsize=14)\n",
    "\n",
    "# Tidy layout\n",
    "plt.tight_layout(rect=[0.06, 0.04, 1, 0.96])\n",
    "plt.show()\n"
   ]
  }
 ],
 "metadata": {
  "kernelspec": {
   "display_name": "Python 3.11 (default)",
   "language": "python",
   "name": "python3"
  },
  "language_info": {
   "codemirror_mode": {
    "name": "ipython",
    "version": 3
   },
   "file_extension": ".py",
   "mimetype": "text/x-python",
   "name": "python",
   "nbconvert_exporter": "python",
   "pygments_lexer": "ipython3",
   "version": "3.11.11"
  }
 },
 "nbformat": 4,
 "nbformat_minor": 5
}
