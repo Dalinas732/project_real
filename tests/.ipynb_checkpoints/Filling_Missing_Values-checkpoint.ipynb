{
 "cells": [
  {
   "cell_type": "code",
   "execution_count": 1,
   "id": "42ad48f2-5473-41a7-a0f3-5894c7916bb0",
   "metadata": {},
   "outputs": [],
   "source": [
    "from DataCollection import Temperature_Data\n",
    "import numpy as np\n",
    "import pandas as pd\n",
    "import matplotlib.pyplot as plt\n",
    "data = pd.read_excel(\"cleandata.xlsx\", sheet_name=None)\n",
    "tp = Temperature_Data(data)\n",
    "years = tp.years"
   ]
  },
  {
   "cell_type": "code",
   "execution_count": 4,
   "id": "76d22f9e-e680-48ca-91b9-b1e56c332a95",
   "metadata": {},
   "outputs": [
    {
     "name": "stdout",
     "output_type": "stream",
     "text": [
      "Looks like it passed.\n"
     ]
    }
   ],
   "source": [
    "\"\"\"\n",
    "Again this was a seperate moduel I used for filling missing values that was needed for a very specfiic problem, so I made a copy sheet.\n",
    "\"\"\"\n",
    "months = np.arange(12) + 1\n",
    "for year in years:\n",
    "    df = tp.dfs[year].astype(float)\n",
    "    for month in months:\n",
    "        lows = tp.collect_month(month,year,\"low\")\n",
    "        avgs = tp.collect_month(month,year,\"average\")\n",
    "        highs = tp.collect_month(month,year,\"high\")\n",
    "        tp.check_length_of_month(lows.size,month,year)\n",
    "        tp.check_length_of_month(avgs.size,month,year)\n",
    "        tp.check_length_of_month(highs.size,month,year)\n",
    "print(\"Looks like it passed.\")"
   ]
  }
 ],
 "metadata": {
  "kernelspec": {
   "display_name": "Python 3.11 (default)",
   "language": "python",
   "name": "python3"
  },
  "language_info": {
   "codemirror_mode": {
    "name": "ipython",
    "version": 3
   },
   "file_extension": ".py",
   "mimetype": "text/x-python",
   "name": "python",
   "nbconvert_exporter": "python",
   "pygments_lexer": "ipython3",
   "version": "3.11.11"
  }
 },
 "nbformat": 4,
 "nbformat_minor": 5
}
