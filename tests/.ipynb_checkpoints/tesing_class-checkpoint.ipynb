{
 "cells": [
  {
   "cell_type": "code",
   "execution_count": 1,
   "id": "57a9a4d1-ded6-46fd-81a1-538282bd9414",
   "metadata": {},
   "outputs": [],
   "source": [
    "from DataCollection import Temperature_Data\n",
    "import numpy as np\n",
    "import pandas as pd\n",
    "import matplotlib.pyplot as plt\n",
    "data = pd.read_excel(\"cleandata.xlsx\", sheet_name=None)"
   ]
  },
  {
   "cell_type": "code",
   "execution_count": 2,
   "id": "e6f6bbd6-7c9d-4ed3-9cbd-07b0ea3c945e",
   "metadata": {},
   "outputs": [],
   "source": [
    "data = pd.read_excel(\"cleandata.xlsx\", sheet_name=None)\n",
    "tp = Temperature_Data(data)"
   ]
  },
  {
   "cell_type": "code",
   "execution_count": 6,
   "id": "cf636120-0cc5-4d57-8cc4-9d31971b9b69",
   "metadata": {},
   "outputs": [
    {
     "name": "stdout",
     "output_type": "stream",
     "text": [
      "Warning: This month contains NaNs\n",
      "Warning: This month contains NaNs\n",
      "Warning: This month contains NaNs\n",
      "Warning: This month contains NaNs\n",
      "Warning: This month contains NaNs\n",
      "Warning: This month contains NaNs\n",
      "Warning: This month contains NaNs\n",
      "Warning: This month contains NaNs\n",
      "Warning: This month contains NaNs\n",
      "Warning: This month contains NaNs\n"
     ]
    }
   ],
   "source": [
    "tp.collect_month(6,2000,\"high\")"
   ]
  }
 ],
 "metadata": {
  "kernelspec": {
   "display_name": "Python 3.11 (default)",
   "language": "python",
   "name": "python3"
  },
  "language_info": {
   "codemirror_mode": {
    "name": "ipython",
    "version": 3
   },
   "file_extension": ".py",
   "mimetype": "text/x-python",
   "name": "python",
   "nbconvert_exporter": "python",
   "pygments_lexer": "ipython3",
   "version": "3.11.11"
  }
 },
 "nbformat": 4,
 "nbformat_minor": 5
}
