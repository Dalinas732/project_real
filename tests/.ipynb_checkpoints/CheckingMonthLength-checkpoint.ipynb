{
 "cells": [
  {
   "cell_type": "code",
   "execution_count": 1,
   "id": "1c548de8-af0c-4838-966a-e28b1998c0d1",
   "metadata": {},
   "outputs": [],
   "source": [
    "from DataCollection import Temperature_Data\n",
    "import numpy as np\n",
    "import pandas as pd\n",
    "import matplotlib.pyplot as plt"
   ]
  },
  {
   "cell_type": "code",
   "execution_count": 2,
   "id": "3eaa4816-b0cc-486f-aaa2-149f1f678364",
   "metadata": {},
   "outputs": [],
   "source": [
    "data = pd.read_excel(\"cleandata.xlsx\", sheet_name=None)\n",
    "tp = Temperature_Data(data)"
   ]
  },
  {
   "cell_type": "code",
   "execution_count": 3,
   "id": "f496f4e3-a5e6-4056-ba9f-6b5aa2d63db5",
   "metadata": {},
   "outputs": [],
   "source": [
    "#print(tp.dfs[\"2000\"])"
   ]
  },
  {
   "cell_type": "code",
   "execution_count": 4,
   "id": "5ed86bac-ce9a-4bb4-ac9a-428304d3de1d",
   "metadata": {},
   "outputs": [
    {
     "name": "stdout",
     "output_type": "stream",
     "text": [
      "Completed.\n"
     ]
    }
   ],
   "source": [
    "\"\"\"\n",
    "This moduel ensured that I found all missing data and each day for each year has a value. Though it might still be incorrectly zero.\n",
    "\"\"\"\n",
    "years = tp.years\n",
    "for year in years:\n",
    "    for month in (np.arange(12)+1):\n",
    "        temps_high = tp.collect_month(month,year,\"high\")\n",
    "        size = temps_high.size\n",
    "        tp.check_length_of_month(size,month,year)\n",
    "        \n",
    "        temps_avg = tp.collect_month(month,year,\"average\")\n",
    "        size = temps_avg.size\n",
    "        tp.check_length_of_month(size,month,year)\n",
    "        \n",
    "        temps_low = tp.collect_month(month,year,\"low\")\n",
    "        size = temps_low.size\n",
    "        tp.check_length_of_month(size,month,year)\n",
    "\n",
    "print(\"Completed.\")        "
   ]
  }
 ],
 "metadata": {
  "kernelspec": {
   "display_name": "Python 3.11 (default)",
   "language": "python",
   "name": "python3"
  },
  "language_info": {
   "codemirror_mode": {
    "name": "ipython",
    "version": 3
   },
   "file_extension": ".py",
   "mimetype": "text/x-python",
   "name": "python",
   "nbconvert_exporter": "python",
   "pygments_lexer": "ipython3",
   "version": "3.11.11"
  }
 },
 "nbformat": 4,
 "nbformat_minor": 5
}
