{
 "cells": [
  {
   "cell_type": "code",
   "execution_count": 1,
   "id": "57a9a4d1-ded6-46fd-81a1-538282bd9414",
   "metadata": {},
   "outputs": [],
   "source": [
    "from DataCollection import Temperature_Data\n",
    "import numpy as np\n",
    "import pandas as pd\n",
    "import matplotlib.pyplot as plt\n",
    "data = pd.read_excel(\"cleandata.xlsx\", sheet_name=None)"
   ]
  },
  {
   "cell_type": "code",
   "execution_count": 2,
   "id": "e6f6bbd6-7c9d-4ed3-9cbd-07b0ea3c945e",
   "metadata": {},
   "outputs": [],
   "source": [
    "data = pd.read_excel(\"cleandata.xlsx\", sheet_name=None)\n",
    "tp = Temperature_Data(data)"
   ]
  },
  {
   "cell_type": "code",
   "execution_count": 3,
   "id": "cf636120-0cc5-4d57-8cc4-9d31971b9b69",
   "metadata": {},
   "outputs": [
    {
     "ename": "AssertionError",
     "evalue": "Input for day cannot be above 31.",
     "output_type": "error",
     "traceback": [
      "\u001b[0;31m---------------------------------------------------------------------------\u001b[0m",
      "\u001b[0;31mAssertionError\u001b[0m                            Traceback (most recent call last)",
      "Cell \u001b[0;32mIn[3], line 1\u001b[0m\n\u001b[0;32m----> 1\u001b[0m \u001b[43mtp\u001b[49m\u001b[38;5;241;43m.\u001b[39;49m\u001b[43mcollect_day\u001b[49m\u001b[43m(\u001b[49m\u001b[38;5;241;43m6\u001b[39;49m\u001b[43m,\u001b[49m\u001b[38;5;241;43m100\u001b[39;49m\u001b[43m,\u001b[49m\u001b[38;5;124;43m\"\u001b[39;49m\u001b[38;5;124;43mhigh\u001b[39;49m\u001b[38;5;124;43m\"\u001b[39;49m\u001b[43m)\u001b[49m\n",
      "File \u001b[0;32m~/CMSE802/Project/DataCollection.py:67\u001b[0m, in \u001b[0;36mTemperature_Data.collect_day\u001b[0;34m(self, month, day, mode)\u001b[0m\n\u001b[1;32m     65\u001b[0m \u001b[38;5;28;01mdef\u001b[39;00m \u001b[38;5;21mcollect_day\u001b[39m(\u001b[38;5;28mself\u001b[39m,month,day,mode\u001b[38;5;241m=\u001b[39m\u001b[38;5;28;01mNone\u001b[39;00m): \u001b[38;5;66;03m# This function collects all highs for a given day between 1960-2024\u001b[39;00m\n\u001b[1;32m     66\u001b[0m     index \u001b[38;5;241m=\u001b[39m \u001b[38;5;28;01mNone\u001b[39;00m\n\u001b[0;32m---> 67\u001b[0m     \u001b[38;5;28;01massert\u001b[39;00m day \u001b[38;5;241m<\u001b[39m\u001b[38;5;241m=\u001b[39m \u001b[38;5;241m31\u001b[39m, \u001b[38;5;124m\"\u001b[39m\u001b[38;5;124mInput for day cannot be above 31.\u001b[39m\u001b[38;5;124m\"\u001b[39m\n\u001b[1;32m     69\u001b[0m     \u001b[38;5;28;01mif\u001b[39;00m mode \u001b[38;5;241m==\u001b[39m \u001b[38;5;28;01mNone\u001b[39;00m:\n\u001b[1;32m     70\u001b[0m         \u001b[38;5;28;01mraise\u001b[39;00m \u001b[38;5;167;01mValueError\u001b[39;00m(\u001b[38;5;124m\"\u001b[39m\u001b[38;5;124mMust choose high, average, or low for data collection.\u001b[39m\u001b[38;5;124m\"\u001b[39m)\n",
      "\u001b[0;31mAssertionError\u001b[0m: Input for day cannot be above 31."
     ]
    }
   ],
   "source": [
    "tp.collect_day(6,100,\"high\")"
   ]
  }
 ],
 "metadata": {
  "kernelspec": {
   "display_name": "Python 3.11 (default)",
   "language": "python",
   "name": "python3"
  },
  "language_info": {
   "codemirror_mode": {
    "name": "ipython",
    "version": 3
   },
   "file_extension": ".py",
   "mimetype": "text/x-python",
   "name": "python",
   "nbconvert_exporter": "python",
   "pygments_lexer": "ipython3",
   "version": "3.11.11"
  }
 },
 "nbformat": 4,
 "nbformat_minor": 5
}
